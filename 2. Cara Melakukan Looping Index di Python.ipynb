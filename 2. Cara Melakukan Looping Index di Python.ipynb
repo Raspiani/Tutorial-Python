{
 "cells": [
  {
   "cell_type": "markdown",
   "metadata": {},
   "source": [
    "## 2. Cara Melakukan Looping Index di Python\n",
    "\n",
    "Berikut ini cara melakukan pengulangan atau looping dari sebuah list menggunakan python."
   ]
  },
  {
   "cell_type": "code",
   "execution_count": 6,
   "metadata": {},
   "outputs": [],
   "source": [
    "#membuat list terlebih dahulu\n",
    "List = [100, 245, 657, 87, 90, 40, 56, 86, 989]"
   ]
  },
  {
   "cell_type": "code",
   "execution_count": 7,
   "metadata": {},
   "outputs": [
    {
     "name": "stdout",
     "output_type": "stream",
     "text": [
      "0 100\n",
      "index ke 0 nilainya adalah : 100\n",
      "1 245\n",
      "index ke 1 nilainya adalah : 245\n",
      "2 657\n",
      "index ke 2 nilainya adalah : 657\n",
      "3 87\n",
      "index ke 3 nilainya adalah : 87\n",
      "4 90\n",
      "index ke 4 nilainya adalah : 90\n",
      "5 40\n",
      "index ke 5 nilainya adalah : 40\n",
      "6 56\n",
      "index ke 6 nilainya adalah : 56\n",
      "7 86\n",
      "index ke 7 nilainya adalah : 86\n",
      "8 989\n",
      "index ke 8 nilainya adalah : 989\n"
     ]
    }
   ],
   "source": [
    "#melakukan looping index dengan fungsi enumerate\n",
    "for index, nilai in enumerate(List):\n",
    "    print(index, nilai)\n",
    "    print('index ke', index, 'nilainya adalah :', nilai)"
   ]
  },
  {
   "cell_type": "code",
   "execution_count": 8,
   "metadata": {},
   "outputs": [
    {
     "name": "stdout",
     "output_type": "stream",
     "text": [
      "0 100\n",
      "1 245\n",
      "2 657\n",
      "3 87\n",
      "4 90\n",
      "5 40\n",
      "6 56\n",
      "7 86\n",
      "8 989\n"
     ]
    }
   ],
   "source": [
    "for index, nilai in enumerate(List):\n",
    "    print(index, nilai)"
   ]
  },
  {
   "cell_type": "markdown",
   "metadata": {},
   "source": [
    "                                ##Semoga Bermanfaat\n",
    "                                ##@Raspiani_"
   ]
  }
 ],
 "metadata": {
  "kernelspec": {
   "display_name": "Python 3",
   "language": "python",
   "name": "python3"
  },
  "language_info": {
   "codemirror_mode": {
    "name": "ipython",
    "version": 3
   },
   "file_extension": ".py",
   "mimetype": "text/x-python",
   "name": "python",
   "nbconvert_exporter": "python",
   "pygments_lexer": "ipython3",
   "version": "3.6.5"
  }
 },
 "nbformat": 4,
 "nbformat_minor": 2
}
